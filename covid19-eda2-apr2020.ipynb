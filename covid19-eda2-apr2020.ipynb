{
 "cells": [
  {
   "cell_type": "markdown",
   "metadata": {},
   "source": [
    "\n",
    "# COVID-19: From global data to country statistics\n",
    "\n",
    "Data collected from:\n",
    "\n",
    "https://pomber.github.io/covid19/timeseries.json\n",
    "\n",
    "(c) AJEsteves, April 2020"
   ]
  },
  {
   "cell_type": "code",
   "execution_count": 1,
   "metadata": {},
   "outputs": [],
   "source": [
    "import pandas as pd\n",
    "import json\n",
    "from   json import JSONDecoder, JSONDecodeError\n",
    "import matplotlib.pyplot as plt\n",
    "import urllib\n",
    "import urllib.parse\n",
    "import os"
   ]
  },
  {
   "cell_type": "code",
   "execution_count": 2,
   "metadata": {
    "scrolled": true
   },
   "outputs": [],
   "source": [
    "# !wget https://pomber.github.io/covid19/timeseries.json"
   ]
  },
  {
   "cell_type": "code",
   "execution_count": 3,
   "metadata": {},
   "outputs": [],
   "source": [
    "url = f\"https://pomber.github.io/covid19/timeseries.json\"\n",
    "\n",
    "global_data = []\n",
    "\n",
    "with urllib.request.urlopen(url) as response:\n",
    "    raw_data = response.read()\n",
    "    str_data = raw_data.decode(\"utf-8\")\n",
    "\n",
    "    decoder = json.JSONDecoder()\n",
    "    try:\n",
    "        json_data = decoder.decode(str_data)\n",
    "    except JSONDecodeError:\n",
    "        print(\"JSON Decode Error!\")\n",
    "    else:\n",
    "        # data is now a dictionary: key=country name, value=list of dictionaries, \n",
    "        # where each dictionary includes 4 key-value pairs (date, confirmed, deaths, recovered) \n",
    "        \n",
    "        for country, country_stats in json_data.items():\n",
    "            # print(country)\n",
    "        \n",
    "            for day_stat in country_stats:\n",
    "                day = [country,day_stat['date'],day_stat['confirmed'],day_stat['deaths'],day_stat['recovered']]\n",
    "                global_data.append(day)\n",
    "                \n",
    "        global_df = pd.DataFrame(global_data, columns =['country','date','accum_cases','accum_deaths','accum_recovered'])"
   ]
  },
  {
   "cell_type": "code",
   "execution_count": 4,
   "metadata": {
    "scrolled": false
   },
   "outputs": [
    {
     "data": {
      "text/html": [
       "<div>\n",
       "<style scoped>\n",
       "    .dataframe tbody tr th:only-of-type {\n",
       "        vertical-align: middle;\n",
       "    }\n",
       "\n",
       "    .dataframe tbody tr th {\n",
       "        vertical-align: top;\n",
       "    }\n",
       "\n",
       "    .dataframe thead th {\n",
       "        text-align: right;\n",
       "    }\n",
       "</style>\n",
       "<table border=\"1\" class=\"dataframe\">\n",
       "  <thead>\n",
       "    <tr style=\"text-align: right;\">\n",
       "      <th></th>\n",
       "      <th>country</th>\n",
       "      <th>date</th>\n",
       "      <th>accum_cases</th>\n",
       "      <th>accum_deaths</th>\n",
       "      <th>accum_recovered</th>\n",
       "    </tr>\n",
       "  </thead>\n",
       "  <tbody>\n",
       "    <tr>\n",
       "      <th>0</th>\n",
       "      <td>Afghanistan</td>\n",
       "      <td>2020-1-22</td>\n",
       "      <td>0</td>\n",
       "      <td>0</td>\n",
       "      <td>0</td>\n",
       "    </tr>\n",
       "    <tr>\n",
       "      <th>1</th>\n",
       "      <td>Afghanistan</td>\n",
       "      <td>2020-1-23</td>\n",
       "      <td>0</td>\n",
       "      <td>0</td>\n",
       "      <td>0</td>\n",
       "    </tr>\n",
       "    <tr>\n",
       "      <th>2</th>\n",
       "      <td>Afghanistan</td>\n",
       "      <td>2020-1-24</td>\n",
       "      <td>0</td>\n",
       "      <td>0</td>\n",
       "      <td>0</td>\n",
       "    </tr>\n",
       "    <tr>\n",
       "      <th>3</th>\n",
       "      <td>Afghanistan</td>\n",
       "      <td>2020-1-25</td>\n",
       "      <td>0</td>\n",
       "      <td>0</td>\n",
       "      <td>0</td>\n",
       "    </tr>\n",
       "    <tr>\n",
       "      <th>4</th>\n",
       "      <td>Afghanistan</td>\n",
       "      <td>2020-1-26</td>\n",
       "      <td>0</td>\n",
       "      <td>0</td>\n",
       "      <td>0</td>\n",
       "    </tr>\n",
       "  </tbody>\n",
       "</table>\n",
       "</div>"
      ],
      "text/plain": [
       "       country       date  accum_cases  accum_deaths  accum_recovered\n",
       "0  Afghanistan  2020-1-22            0             0                0\n",
       "1  Afghanistan  2020-1-23            0             0                0\n",
       "2  Afghanistan  2020-1-24            0             0                0\n",
       "3  Afghanistan  2020-1-25            0             0                0\n",
       "4  Afghanistan  2020-1-26            0             0                0"
      ]
     },
     "execution_count": 4,
     "metadata": {},
     "output_type": "execute_result"
    }
   ],
   "source": [
    "global_df.head()"
   ]
  },
  {
   "cell_type": "code",
   "execution_count": 5,
   "metadata": {},
   "outputs": [
    {
     "data": {
      "text/html": [
       "<div>\n",
       "<style scoped>\n",
       "    .dataframe tbody tr th:only-of-type {\n",
       "        vertical-align: middle;\n",
       "    }\n",
       "\n",
       "    .dataframe tbody tr th {\n",
       "        vertical-align: top;\n",
       "    }\n",
       "\n",
       "    .dataframe thead th {\n",
       "        text-align: right;\n",
       "    }\n",
       "</style>\n",
       "<table border=\"1\" class=\"dataframe\">\n",
       "  <thead>\n",
       "    <tr style=\"text-align: right;\">\n",
       "      <th></th>\n",
       "      <th>country</th>\n",
       "      <th>date</th>\n",
       "      <th>accum_cases</th>\n",
       "      <th>accum_deaths</th>\n",
       "      <th>accum_recovered</th>\n",
       "    </tr>\n",
       "  </thead>\n",
       "  <tbody>\n",
       "    <tr>\n",
       "      <th>17385</th>\n",
       "      <td>Yemen</td>\n",
       "      <td>2020-4-20</td>\n",
       "      <td>1</td>\n",
       "      <td>0</td>\n",
       "      <td>0</td>\n",
       "    </tr>\n",
       "    <tr>\n",
       "      <th>17386</th>\n",
       "      <td>Yemen</td>\n",
       "      <td>2020-4-21</td>\n",
       "      <td>1</td>\n",
       "      <td>0</td>\n",
       "      <td>0</td>\n",
       "    </tr>\n",
       "    <tr>\n",
       "      <th>17387</th>\n",
       "      <td>Yemen</td>\n",
       "      <td>2020-4-22</td>\n",
       "      <td>1</td>\n",
       "      <td>0</td>\n",
       "      <td>0</td>\n",
       "    </tr>\n",
       "    <tr>\n",
       "      <th>17388</th>\n",
       "      <td>Yemen</td>\n",
       "      <td>2020-4-23</td>\n",
       "      <td>1</td>\n",
       "      <td>0</td>\n",
       "      <td>0</td>\n",
       "    </tr>\n",
       "    <tr>\n",
       "      <th>17389</th>\n",
       "      <td>Yemen</td>\n",
       "      <td>2020-4-24</td>\n",
       "      <td>1</td>\n",
       "      <td>0</td>\n",
       "      <td>1</td>\n",
       "    </tr>\n",
       "  </tbody>\n",
       "</table>\n",
       "</div>"
      ],
      "text/plain": [
       "      country       date  accum_cases  accum_deaths  accum_recovered\n",
       "17385   Yemen  2020-4-20            1             0                0\n",
       "17386   Yemen  2020-4-21            1             0                0\n",
       "17387   Yemen  2020-4-22            1             0                0\n",
       "17388   Yemen  2020-4-23            1             0                0\n",
       "17389   Yemen  2020-4-24            1             0                1"
      ]
     },
     "execution_count": 5,
     "metadata": {},
     "output_type": "execute_result"
    }
   ],
   "source": [
    "global_df.tail()"
   ]
  },
  {
   "cell_type": "code",
   "execution_count": 6,
   "metadata": {
    "scrolled": true
   },
   "outputs": [
    {
     "data": {
      "text/html": [
       "<div>\n",
       "<style scoped>\n",
       "    .dataframe tbody tr th:only-of-type {\n",
       "        vertical-align: middle;\n",
       "    }\n",
       "\n",
       "    .dataframe tbody tr th {\n",
       "        vertical-align: top;\n",
       "    }\n",
       "\n",
       "    .dataframe thead th {\n",
       "        text-align: right;\n",
       "    }\n",
       "</style>\n",
       "<table border=\"1\" class=\"dataframe\">\n",
       "  <thead>\n",
       "    <tr style=\"text-align: right;\">\n",
       "      <th></th>\n",
       "      <th>count</th>\n",
       "      <th>mean</th>\n",
       "      <th>std</th>\n",
       "      <th>min</th>\n",
       "      <th>25%</th>\n",
       "      <th>50%</th>\n",
       "      <th>75%</th>\n",
       "      <th>max</th>\n",
       "    </tr>\n",
       "  </thead>\n",
       "  <tbody>\n",
       "    <tr>\n",
       "      <th>accum_cases</th>\n",
       "      <td>17390.0</td>\n",
       "      <td>3177.937780</td>\n",
       "      <td>26118.604818</td>\n",
       "      <td>0.0</td>\n",
       "      <td>0.0</td>\n",
       "      <td>2.0</td>\n",
       "      <td>135.0</td>\n",
       "      <td>905358.0</td>\n",
       "    </tr>\n",
       "    <tr>\n",
       "      <th>accum_deaths</th>\n",
       "      <td>17390.0</td>\n",
       "      <td>190.443991</td>\n",
       "      <td>1707.601026</td>\n",
       "      <td>0.0</td>\n",
       "      <td>0.0</td>\n",
       "      <td>0.0</td>\n",
       "      <td>2.0</td>\n",
       "      <td>51949.0</td>\n",
       "    </tr>\n",
       "    <tr>\n",
       "      <th>accum_recovered</th>\n",
       "      <td>17390.0</td>\n",
       "      <td>805.386601</td>\n",
       "      <td>6230.580773</td>\n",
       "      <td>0.0</td>\n",
       "      <td>0.0</td>\n",
       "      <td>0.0</td>\n",
       "      <td>9.0</td>\n",
       "      <td>109800.0</td>\n",
       "    </tr>\n",
       "  </tbody>\n",
       "</table>\n",
       "</div>"
      ],
      "text/plain": [
       "                   count         mean           std  min  25%  50%    75%  \\\n",
       "accum_cases      17390.0  3177.937780  26118.604818  0.0  0.0  2.0  135.0   \n",
       "accum_deaths     17390.0   190.443991   1707.601026  0.0  0.0  0.0    2.0   \n",
       "accum_recovered  17390.0   805.386601   6230.580773  0.0  0.0  0.0    9.0   \n",
       "\n",
       "                      max  \n",
       "accum_cases      905358.0  \n",
       "accum_deaths      51949.0  \n",
       "accum_recovered  109800.0  "
      ]
     },
     "execution_count": 6,
     "metadata": {},
     "output_type": "execute_result"
    }
   ],
   "source": [
    "global_df.describe().transpose()"
   ]
  },
  {
   "cell_type": "code",
   "execution_count": 7,
   "metadata": {
    "scrolled": true
   },
   "outputs": [
    {
     "name": "stdout",
     "output_type": "stream",
     "text": [
      "MEAN:     3177.94\n",
      "STD DEV:  26118.60\n",
      "VARIANCE: 682181517.64\n",
      "MINIMUM:  0.00\n",
      "MAXIMUM:  905358.00\n"
     ]
    }
   ],
   "source": [
    "print(f\"MEAN:     {global_df['accum_cases'].mean():.2f}\")\n",
    "print(f\"STD DEV:  {global_df['accum_cases'].std():.2f}\")\n",
    "print(f\"VARIANCE: {global_df['accum_cases'].var():.2f}\")\n",
    "print(f\"MINIMUM:  {global_df['accum_cases'].min():.2f}\")\n",
    "print(f\"MAXIMUM:  {global_df['accum_cases'].max():.2f}\")"
   ]
  },
  {
   "cell_type": "markdown",
   "metadata": {},
   "source": [
    "### Filter rows for a country: Portugal"
   ]
  },
  {
   "cell_type": "code",
   "execution_count": 8,
   "metadata": {},
   "outputs": [
    {
     "data": {
      "text/html": [
       "<div>\n",
       "<style scoped>\n",
       "    .dataframe tbody tr th:only-of-type {\n",
       "        vertical-align: middle;\n",
       "    }\n",
       "\n",
       "    .dataframe tbody tr th {\n",
       "        vertical-align: top;\n",
       "    }\n",
       "\n",
       "    .dataframe thead th {\n",
       "        text-align: right;\n",
       "    }\n",
       "</style>\n",
       "<table border=\"1\" class=\"dataframe\">\n",
       "  <thead>\n",
       "    <tr style=\"text-align: right;\">\n",
       "      <th></th>\n",
       "      <th>country</th>\n",
       "      <th>date</th>\n",
       "      <th>accum_cases</th>\n",
       "      <th>accum_deaths</th>\n",
       "      <th>accum_recovered</th>\n",
       "    </tr>\n",
       "  </thead>\n",
       "  <tbody>\n",
       "    <tr>\n",
       "      <th>11374</th>\n",
       "      <td>Portugal</td>\n",
       "      <td>2020-1-22</td>\n",
       "      <td>0</td>\n",
       "      <td>0</td>\n",
       "      <td>0</td>\n",
       "    </tr>\n",
       "    <tr>\n",
       "      <th>11375</th>\n",
       "      <td>Portugal</td>\n",
       "      <td>2020-1-23</td>\n",
       "      <td>0</td>\n",
       "      <td>0</td>\n",
       "      <td>0</td>\n",
       "    </tr>\n",
       "    <tr>\n",
       "      <th>11376</th>\n",
       "      <td>Portugal</td>\n",
       "      <td>2020-1-24</td>\n",
       "      <td>0</td>\n",
       "      <td>0</td>\n",
       "      <td>0</td>\n",
       "    </tr>\n",
       "    <tr>\n",
       "      <th>11377</th>\n",
       "      <td>Portugal</td>\n",
       "      <td>2020-1-25</td>\n",
       "      <td>0</td>\n",
       "      <td>0</td>\n",
       "      <td>0</td>\n",
       "    </tr>\n",
       "    <tr>\n",
       "      <th>11378</th>\n",
       "      <td>Portugal</td>\n",
       "      <td>2020-1-26</td>\n",
       "      <td>0</td>\n",
       "      <td>0</td>\n",
       "      <td>0</td>\n",
       "    </tr>\n",
       "  </tbody>\n",
       "</table>\n",
       "</div>"
      ],
      "text/plain": [
       "        country       date  accum_cases  accum_deaths  accum_recovered\n",
       "11374  Portugal  2020-1-22            0             0                0\n",
       "11375  Portugal  2020-1-23            0             0                0\n",
       "11376  Portugal  2020-1-24            0             0                0\n",
       "11377  Portugal  2020-1-25            0             0                0\n",
       "11378  Portugal  2020-1-26            0             0                0"
      ]
     },
     "execution_count": 8,
     "metadata": {},
     "output_type": "execute_result"
    }
   ],
   "source": [
    "pt_covdf = global_df[global_df['country']=='Portugal']\n",
    "pt_covdf.head()"
   ]
  },
  {
   "cell_type": "code",
   "execution_count": 9,
   "metadata": {
    "scrolled": true
   },
   "outputs": [
    {
     "name": "stdout",
     "output_type": "stream",
     "text": [
      "<class 'pandas.core.frame.DataFrame'>\n",
      "Int64Index: 94 entries, 11374 to 11467\n",
      "Data columns (total 5 columns):\n",
      " #   Column           Non-Null Count  Dtype \n",
      "---  ------           --------------  ----- \n",
      " 0   country          94 non-null     object\n",
      " 1   date             94 non-null     object\n",
      " 2   accum_cases      94 non-null     int64 \n",
      " 3   accum_deaths     94 non-null     int64 \n",
      " 4   accum_recovered  94 non-null     int64 \n",
      "dtypes: int64(3), object(2)\n",
      "memory usage: 4.4+ KB\n"
     ]
    }
   ],
   "source": [
    "pt_covdf.info()"
   ]
  },
  {
   "cell_type": "code",
   "execution_count": 10,
   "metadata": {},
   "outputs": [
    {
     "name": "stderr",
     "output_type": "stream",
     "text": [
      "/opt/anaconda3/envs/py3-tf2/lib/python3.7/site-packages/ipykernel_launcher.py:1: SettingWithCopyWarning: \n",
      "A value is trying to be set on a copy of a slice from a DataFrame.\n",
      "Try using .loc[row_indexer,col_indexer] = value instead\n",
      "\n",
      "See the caveats in the documentation: https://pandas.pydata.org/pandas-docs/stable/user_guide/indexing.html#returning-a-view-versus-a-copy\n",
      "  \"\"\"Entry point for launching an IPython kernel.\n"
     ]
    },
    {
     "data": {
      "text/html": [
       "<div>\n",
       "<style scoped>\n",
       "    .dataframe tbody tr th:only-of-type {\n",
       "        vertical-align: middle;\n",
       "    }\n",
       "\n",
       "    .dataframe tbody tr th {\n",
       "        vertical-align: top;\n",
       "    }\n",
       "\n",
       "    .dataframe thead th {\n",
       "        text-align: right;\n",
       "    }\n",
       "</style>\n",
       "<table border=\"1\" class=\"dataframe\">\n",
       "  <thead>\n",
       "    <tr style=\"text-align: right;\">\n",
       "      <th></th>\n",
       "      <th>country</th>\n",
       "      <th>date</th>\n",
       "      <th>accum_cases</th>\n",
       "      <th>accum_deaths</th>\n",
       "      <th>accum_recovered</th>\n",
       "    </tr>\n",
       "  </thead>\n",
       "  <tbody>\n",
       "    <tr>\n",
       "      <th>11374</th>\n",
       "      <td>Portugal</td>\n",
       "      <td>2020-01-22</td>\n",
       "      <td>0</td>\n",
       "      <td>0</td>\n",
       "      <td>0</td>\n",
       "    </tr>\n",
       "    <tr>\n",
       "      <th>11375</th>\n",
       "      <td>Portugal</td>\n",
       "      <td>2020-01-23</td>\n",
       "      <td>0</td>\n",
       "      <td>0</td>\n",
       "      <td>0</td>\n",
       "    </tr>\n",
       "    <tr>\n",
       "      <th>11376</th>\n",
       "      <td>Portugal</td>\n",
       "      <td>2020-01-24</td>\n",
       "      <td>0</td>\n",
       "      <td>0</td>\n",
       "      <td>0</td>\n",
       "    </tr>\n",
       "    <tr>\n",
       "      <th>11377</th>\n",
       "      <td>Portugal</td>\n",
       "      <td>2020-01-25</td>\n",
       "      <td>0</td>\n",
       "      <td>0</td>\n",
       "      <td>0</td>\n",
       "    </tr>\n",
       "    <tr>\n",
       "      <th>11378</th>\n",
       "      <td>Portugal</td>\n",
       "      <td>2020-01-26</td>\n",
       "      <td>0</td>\n",
       "      <td>0</td>\n",
       "      <td>0</td>\n",
       "    </tr>\n",
       "  </tbody>\n",
       "</table>\n",
       "</div>"
      ],
      "text/plain": [
       "        country       date  accum_cases  accum_deaths  accum_recovered\n",
       "11374  Portugal 2020-01-22            0             0                0\n",
       "11375  Portugal 2020-01-23            0             0                0\n",
       "11376  Portugal 2020-01-24            0             0                0\n",
       "11377  Portugal 2020-01-25            0             0                0\n",
       "11378  Portugal 2020-01-26            0             0                0"
      ]
     },
     "execution_count": 10,
     "metadata": {},
     "output_type": "execute_result"
    }
   ],
   "source": [
    "pt_covdf['date'] = pd.to_datetime(pt_covdf.date,dayfirst=False)\n",
    "\n",
    "pt_covdf.head()"
   ]
  },
  {
   "cell_type": "code",
   "execution_count": 11,
   "metadata": {
    "scrolled": true
   },
   "outputs": [
    {
     "data": {
      "text/html": [
       "<div>\n",
       "<style scoped>\n",
       "    .dataframe tbody tr th:only-of-type {\n",
       "        vertical-align: middle;\n",
       "    }\n",
       "\n",
       "    .dataframe tbody tr th {\n",
       "        vertical-align: top;\n",
       "    }\n",
       "\n",
       "    .dataframe thead th {\n",
       "        text-align: right;\n",
       "    }\n",
       "</style>\n",
       "<table border=\"1\" class=\"dataframe\">\n",
       "  <thead>\n",
       "    <tr style=\"text-align: right;\">\n",
       "      <th></th>\n",
       "      <th>country</th>\n",
       "      <th>date</th>\n",
       "      <th>accum_cases</th>\n",
       "      <th>accum_deaths</th>\n",
       "      <th>accum_recovered</th>\n",
       "    </tr>\n",
       "  </thead>\n",
       "  <tbody>\n",
       "    <tr>\n",
       "      <th>0</th>\n",
       "      <td>Portugal</td>\n",
       "      <td>2020-01-22</td>\n",
       "      <td>0</td>\n",
       "      <td>0</td>\n",
       "      <td>0</td>\n",
       "    </tr>\n",
       "    <tr>\n",
       "      <th>1</th>\n",
       "      <td>Portugal</td>\n",
       "      <td>2020-01-23</td>\n",
       "      <td>0</td>\n",
       "      <td>0</td>\n",
       "      <td>0</td>\n",
       "    </tr>\n",
       "    <tr>\n",
       "      <th>2</th>\n",
       "      <td>Portugal</td>\n",
       "      <td>2020-01-24</td>\n",
       "      <td>0</td>\n",
       "      <td>0</td>\n",
       "      <td>0</td>\n",
       "    </tr>\n",
       "    <tr>\n",
       "      <th>3</th>\n",
       "      <td>Portugal</td>\n",
       "      <td>2020-01-25</td>\n",
       "      <td>0</td>\n",
       "      <td>0</td>\n",
       "      <td>0</td>\n",
       "    </tr>\n",
       "    <tr>\n",
       "      <th>4</th>\n",
       "      <td>Portugal</td>\n",
       "      <td>2020-01-26</td>\n",
       "      <td>0</td>\n",
       "      <td>0</td>\n",
       "      <td>0</td>\n",
       "    </tr>\n",
       "  </tbody>\n",
       "</table>\n",
       "</div>"
      ],
      "text/plain": [
       "    country       date  accum_cases  accum_deaths  accum_recovered\n",
       "0  Portugal 2020-01-22            0             0                0\n",
       "1  Portugal 2020-01-23            0             0                0\n",
       "2  Portugal 2020-01-24            0             0                0\n",
       "3  Portugal 2020-01-25            0             0                0\n",
       "4  Portugal 2020-01-26            0             0                0"
      ]
     },
     "execution_count": 11,
     "metadata": {},
     "output_type": "execute_result"
    }
   ],
   "source": [
    "pt_covdf1 = pt_covdf.reset_index()\n",
    "pt_covdf2 = pt_covdf1.drop(['index'],axis=1)\n",
    "\n",
    "pt_covdf2.head()"
   ]
  },
  {
   "cell_type": "markdown",
   "metadata": {},
   "source": [
    "### Making sure data is sorted by ascending value of \"date\" column"
   ]
  },
  {
   "cell_type": "code",
   "execution_count": 12,
   "metadata": {
    "scrolled": false
   },
   "outputs": [
    {
     "data": {
      "text/html": [
       "<div>\n",
       "<style scoped>\n",
       "    .dataframe tbody tr th:only-of-type {\n",
       "        vertical-align: middle;\n",
       "    }\n",
       "\n",
       "    .dataframe tbody tr th {\n",
       "        vertical-align: top;\n",
       "    }\n",
       "\n",
       "    .dataframe thead th {\n",
       "        text-align: right;\n",
       "    }\n",
       "</style>\n",
       "<table border=\"1\" class=\"dataframe\">\n",
       "  <thead>\n",
       "    <tr style=\"text-align: right;\">\n",
       "      <th></th>\n",
       "      <th>country</th>\n",
       "      <th>date</th>\n",
       "      <th>accum_cases</th>\n",
       "      <th>accum_deaths</th>\n",
       "      <th>accum_recovered</th>\n",
       "    </tr>\n",
       "  </thead>\n",
       "  <tbody>\n",
       "    <tr>\n",
       "      <th>0</th>\n",
       "      <td>Portugal</td>\n",
       "      <td>2020-01-22</td>\n",
       "      <td>0</td>\n",
       "      <td>0</td>\n",
       "      <td>0</td>\n",
       "    </tr>\n",
       "    <tr>\n",
       "      <th>1</th>\n",
       "      <td>Portugal</td>\n",
       "      <td>2020-01-23</td>\n",
       "      <td>0</td>\n",
       "      <td>0</td>\n",
       "      <td>0</td>\n",
       "    </tr>\n",
       "    <tr>\n",
       "      <th>2</th>\n",
       "      <td>Portugal</td>\n",
       "      <td>2020-01-24</td>\n",
       "      <td>0</td>\n",
       "      <td>0</td>\n",
       "      <td>0</td>\n",
       "    </tr>\n",
       "    <tr>\n",
       "      <th>3</th>\n",
       "      <td>Portugal</td>\n",
       "      <td>2020-01-25</td>\n",
       "      <td>0</td>\n",
       "      <td>0</td>\n",
       "      <td>0</td>\n",
       "    </tr>\n",
       "    <tr>\n",
       "      <th>4</th>\n",
       "      <td>Portugal</td>\n",
       "      <td>2020-01-26</td>\n",
       "      <td>0</td>\n",
       "      <td>0</td>\n",
       "      <td>0</td>\n",
       "    </tr>\n",
       "  </tbody>\n",
       "</table>\n",
       "</div>"
      ],
      "text/plain": [
       "    country       date  accum_cases  accum_deaths  accum_recovered\n",
       "0  Portugal 2020-01-22            0             0                0\n",
       "1  Portugal 2020-01-23            0             0                0\n",
       "2  Portugal 2020-01-24            0             0                0\n",
       "3  Portugal 2020-01-25            0             0                0\n",
       "4  Portugal 2020-01-26            0             0                0"
      ]
     },
     "execution_count": 12,
     "metadata": {},
     "output_type": "execute_result"
    }
   ],
   "source": [
    "pt_covdf3 = pt_covdf2.sort_values(by=['date'], axis=0, ascending=True)\n",
    "\n",
    "pt_covdf3.head()"
   ]
  },
  {
   "cell_type": "code",
   "execution_count": 13,
   "metadata": {
    "scrolled": true
   },
   "outputs": [
    {
     "data": {
      "text/html": [
       "<div>\n",
       "<style scoped>\n",
       "    .dataframe tbody tr th:only-of-type {\n",
       "        vertical-align: middle;\n",
       "    }\n",
       "\n",
       "    .dataframe tbody tr th {\n",
       "        vertical-align: top;\n",
       "    }\n",
       "\n",
       "    .dataframe thead th {\n",
       "        text-align: right;\n",
       "    }\n",
       "</style>\n",
       "<table border=\"1\" class=\"dataframe\">\n",
       "  <thead>\n",
       "    <tr style=\"text-align: right;\">\n",
       "      <th></th>\n",
       "      <th>country</th>\n",
       "      <th>date</th>\n",
       "      <th>accum_cases</th>\n",
       "      <th>accum_deaths</th>\n",
       "      <th>accum_recovered</th>\n",
       "    </tr>\n",
       "  </thead>\n",
       "  <tbody>\n",
       "    <tr>\n",
       "      <th>0</th>\n",
       "      <td>Portugal</td>\n",
       "      <td>2020-01-22</td>\n",
       "      <td>0</td>\n",
       "      <td>0</td>\n",
       "      <td>0</td>\n",
       "    </tr>\n",
       "    <tr>\n",
       "      <th>1</th>\n",
       "      <td>Portugal</td>\n",
       "      <td>2020-01-23</td>\n",
       "      <td>0</td>\n",
       "      <td>0</td>\n",
       "      <td>0</td>\n",
       "    </tr>\n",
       "    <tr>\n",
       "      <th>2</th>\n",
       "      <td>Portugal</td>\n",
       "      <td>2020-01-24</td>\n",
       "      <td>0</td>\n",
       "      <td>0</td>\n",
       "      <td>0</td>\n",
       "    </tr>\n",
       "    <tr>\n",
       "      <th>3</th>\n",
       "      <td>Portugal</td>\n",
       "      <td>2020-01-25</td>\n",
       "      <td>0</td>\n",
       "      <td>0</td>\n",
       "      <td>0</td>\n",
       "    </tr>\n",
       "    <tr>\n",
       "      <th>4</th>\n",
       "      <td>Portugal</td>\n",
       "      <td>2020-01-26</td>\n",
       "      <td>0</td>\n",
       "      <td>0</td>\n",
       "      <td>0</td>\n",
       "    </tr>\n",
       "  </tbody>\n",
       "</table>\n",
       "</div>"
      ],
      "text/plain": [
       "    country       date  accum_cases  accum_deaths  accum_recovered\n",
       "0  Portugal 2020-01-22            0             0                0\n",
       "1  Portugal 2020-01-23            0             0                0\n",
       "2  Portugal 2020-01-24            0             0                0\n",
       "3  Portugal 2020-01-25            0             0                0\n",
       "4  Portugal 2020-01-26            0             0                0"
      ]
     },
     "execution_count": 13,
     "metadata": {},
     "output_type": "execute_result"
    }
   ],
   "source": [
    "pt_covdf3 = pt_covdf3.reset_index()\n",
    "pt_covdf3 = pt_covdf3.drop(['index'],axis=1)\n",
    "\n",
    "pt_covdf3.head()"
   ]
  },
  {
   "cell_type": "code",
   "execution_count": 14,
   "metadata": {},
   "outputs": [],
   "source": [
    "# pt_covdf3.to_csv(\"covid19-pt3.csv\")"
   ]
  },
  {
   "cell_type": "markdown",
   "metadata": {},
   "source": [
    "### Compute difference among sucessive accumlated values to get daily statistics"
   ]
  },
  {
   "cell_type": "code",
   "execution_count": 15,
   "metadata": {},
   "outputs": [],
   "source": [
    "pt_covdf3[\"cases\"] = pt_covdf3[\"accum_cases\"].diff(1)\n",
    "pt_covdf3.at[0,'cases'] = pt_covdf3.at[0,'accum_cases'] \n",
    "\n",
    "pt_covdf3[\"deaths\"] = pt_covdf3[\"accum_deaths\"].diff(1)\n",
    "pt_covdf3.at[0,'deaths'] = pt_covdf3.at[0,'accum_deaths']\n",
    "\n",
    "pt_covdf3[\"recovered\"] = pt_covdf3[\"accum_recovered\"].diff(1)\n",
    "pt_covdf3.at[0,'recovered'] = pt_covdf3.at[0,'accum_recovered'] "
   ]
  },
  {
   "cell_type": "code",
   "execution_count": 16,
   "metadata": {},
   "outputs": [
    {
     "data": {
      "text/html": [
       "<div>\n",
       "<style scoped>\n",
       "    .dataframe tbody tr th:only-of-type {\n",
       "        vertical-align: middle;\n",
       "    }\n",
       "\n",
       "    .dataframe tbody tr th {\n",
       "        vertical-align: top;\n",
       "    }\n",
       "\n",
       "    .dataframe thead th {\n",
       "        text-align: right;\n",
       "    }\n",
       "</style>\n",
       "<table border=\"1\" class=\"dataframe\">\n",
       "  <thead>\n",
       "    <tr style=\"text-align: right;\">\n",
       "      <th></th>\n",
       "      <th>country</th>\n",
       "      <th>date</th>\n",
       "      <th>accum_cases</th>\n",
       "      <th>accum_deaths</th>\n",
       "      <th>accum_recovered</th>\n",
       "      <th>cases</th>\n",
       "      <th>deaths</th>\n",
       "      <th>recovered</th>\n",
       "    </tr>\n",
       "  </thead>\n",
       "  <tbody>\n",
       "    <tr>\n",
       "      <th>0</th>\n",
       "      <td>Portugal</td>\n",
       "      <td>2020-01-22</td>\n",
       "      <td>0</td>\n",
       "      <td>0</td>\n",
       "      <td>0</td>\n",
       "      <td>0.0</td>\n",
       "      <td>0.0</td>\n",
       "      <td>0.0</td>\n",
       "    </tr>\n",
       "    <tr>\n",
       "      <th>1</th>\n",
       "      <td>Portugal</td>\n",
       "      <td>2020-01-23</td>\n",
       "      <td>0</td>\n",
       "      <td>0</td>\n",
       "      <td>0</td>\n",
       "      <td>0.0</td>\n",
       "      <td>0.0</td>\n",
       "      <td>0.0</td>\n",
       "    </tr>\n",
       "    <tr>\n",
       "      <th>2</th>\n",
       "      <td>Portugal</td>\n",
       "      <td>2020-01-24</td>\n",
       "      <td>0</td>\n",
       "      <td>0</td>\n",
       "      <td>0</td>\n",
       "      <td>0.0</td>\n",
       "      <td>0.0</td>\n",
       "      <td>0.0</td>\n",
       "    </tr>\n",
       "    <tr>\n",
       "      <th>3</th>\n",
       "      <td>Portugal</td>\n",
       "      <td>2020-01-25</td>\n",
       "      <td>0</td>\n",
       "      <td>0</td>\n",
       "      <td>0</td>\n",
       "      <td>0.0</td>\n",
       "      <td>0.0</td>\n",
       "      <td>0.0</td>\n",
       "    </tr>\n",
       "    <tr>\n",
       "      <th>4</th>\n",
       "      <td>Portugal</td>\n",
       "      <td>2020-01-26</td>\n",
       "      <td>0</td>\n",
       "      <td>0</td>\n",
       "      <td>0</td>\n",
       "      <td>0.0</td>\n",
       "      <td>0.0</td>\n",
       "      <td>0.0</td>\n",
       "    </tr>\n",
       "  </tbody>\n",
       "</table>\n",
       "</div>"
      ],
      "text/plain": [
       "    country       date  accum_cases  accum_deaths  accum_recovered  cases  \\\n",
       "0  Portugal 2020-01-22            0             0                0    0.0   \n",
       "1  Portugal 2020-01-23            0             0                0    0.0   \n",
       "2  Portugal 2020-01-24            0             0                0    0.0   \n",
       "3  Portugal 2020-01-25            0             0                0    0.0   \n",
       "4  Portugal 2020-01-26            0             0                0    0.0   \n",
       "\n",
       "   deaths  recovered  \n",
       "0     0.0        0.0  \n",
       "1     0.0        0.0  \n",
       "2     0.0        0.0  \n",
       "3     0.0        0.0  \n",
       "4     0.0        0.0  "
      ]
     },
     "execution_count": 16,
     "metadata": {},
     "output_type": "execute_result"
    }
   ],
   "source": [
    "# pt_covdf3.to_csv(\"covid19-pt4.csv\")\n",
    "\n",
    "pt_covdf3.head()"
   ]
  },
  {
   "cell_type": "markdown",
   "metadata": {},
   "source": [
    "## PLot data"
   ]
  },
  {
   "cell_type": "code",
   "execution_count": 17,
   "metadata": {},
   "outputs": [
    {
     "data": {
      "image/png": "[encoded data removed]",
      "text/plain": [
       "<Figure size 864x432 with 1 Axes>"
      ]
     },
     "metadata": {
      "needs_background": "light"
     },
     "output_type": "display_data"
    }
   ],
   "source": [
    "ax = plt.gca()\n",
    "\n",
    "pt_covdf3.plot(kind='line',x='date',y='cases', figsize=(12,6), color='red', ax=ax)\n",
    "plt.show()"
   ]
  },
  {
   "cell_type": "code",
   "execution_count": 18,
   "metadata": {
    "scrolled": false
   },
   "outputs": [
    {
     "data": {
      "image/png": "[encoded data removed]",
      "text/plain": [
       "<Figure size 864x432 with 1 Axes>"
      ]
     },
     "metadata": {
      "needs_background": "light"
     },
     "output_type": "display_data"
    }
   ],
   "source": [
    "ax = plt.gca()\n",
    "\n",
    "pt_covdf3.plot(kind='line',x='date',y='cases',figsize=(12,6),color='blue', ax=ax)\n",
    "# plt.ylabel('New Cases')\n",
    "\n",
    "pt_covdf3.plot(kind='line',x='date',y='deaths',figsize=(12,6),color='red', ax=ax)\n",
    "plt.title('CoVID-19: Portugal')\n",
    "#plt.ylabel('Deaths')\n",
    "\n",
    "plt.show()"
   ]
  },
  {
   "cell_type": "code",
   "execution_count": 22,
   "metadata": {
    "scrolled": false
   },
   "outputs": [
    {
     "data": {
      "image/png": "[encoded data removed]",
      "text/plain": [
       "<Figure size 1008x720 with 3 Axes>"
      ]
     },
     "metadata": {
      "needs_background": "light"
     },
     "output_type": "display_data"
    }
   ],
   "source": [
    "import matplotlib.dates as mdates\n",
    "from matplotlib.dates import DateFormatter\n",
    "\n",
    "fig, axs = plt.subplots(3, 1, figsize=(14, 10))\n",
    "\n",
    "# Define the date format\n",
    "date_form = DateFormatter(\"%m-%d\")\n",
    "\n",
    "axs[0].plot(pt_covdf3['date'], pt_covdf3['cases'], 'bD-')\n",
    "axs[0].set_xlabel('date')\n",
    "axs[0].set_ylabel('cases')\n",
    "axs[0].grid(True)\n",
    "axs[0].xaxis.set_major_formatter(date_form)\n",
    "axs[0].xaxis.set_minor_locator(mdates.DayLocator())\n",
    "axs[0].set_title('Daily new cases')\n",
    "\n",
    "axs[1].plot(pt_covdf3['date'], pt_covdf3['deaths'], \"rx-\")\n",
    "axs[1].set_xlabel('date')\n",
    "axs[1].set_ylabel('deaths')\n",
    "axs[1].grid(True)\n",
    "axs[1].xaxis.set_major_formatter(date_form)\n",
    "axs[1].xaxis.set_minor_locator(mdates.DayLocator())\n",
    "axs[1].set_title('Daily deaths')\n",
    "\n",
    "axs[2].plot(pt_covdf3['date'], pt_covdf3['recovered'], \"go-\")\n",
    "axs[2].set_xlabel('date')\n",
    "axs[2].set_ylabel('recovered')\n",
    "axs[2].grid(True)\n",
    "axs[2].xaxis.set_major_formatter(date_form)\n",
    "axs[2].xaxis.set_minor_locator(mdates.DayLocator())\n",
    "axs[2].set_title('Daily recovered')\n",
    "\n",
    "fig.tight_layout()\n",
    "plt.show()"
   ]
  },
  {
   "cell_type": "code",
   "execution_count": 25,
   "metadata": {
    "scrolled": false
   },
   "outputs": [
    {
     "data": {
      "image/png": "[encoded data removed]",
      "text/plain": [
       "<Figure size 1008x720 with 3 Axes>"
      ]
     },
     "metadata": {
      "needs_background": "light"
     },
     "output_type": "display_data"
    }
   ],
   "source": [
    "import matplotlib.dates as mdates\n",
    "from   matplotlib.dates import DateFormatter\n",
    "\n",
    "fig, axs = plt.subplots(3, 1, figsize=(14, 10))\n",
    "\n",
    "# Define the date format\n",
    "date_form = DateFormatter(\"%m-%d\")\n",
    "\n",
    "axs[0].plot(pt_covdf3['date'], pt_covdf3['accum_cases'], 'bD-')\n",
    "axs[0].set_xlabel('date')\n",
    "axs[0].set_ylabel('cases')\n",
    "axs[0].grid(True)\n",
    "axs[0].xaxis.set_major_formatter(date_form)\n",
    "axs[0].xaxis.set_minor_locator(mdates.DayLocator())\n",
    "axs[0].set_title('Total cases')\n",
    "\n",
    "axs[1].plot(pt_covdf3['date'], pt_covdf3['accum_deaths'], \"rx-\")\n",
    "axs[1].set_xlabel('date')\n",
    "axs[1].set_ylabel('deaths')\n",
    "axs[1].grid(True)\n",
    "axs[1].xaxis.set_major_formatter(date_form)\n",
    "axs[1].xaxis.set_minor_locator(mdates.DayLocator())\n",
    "axs[1].set_title('Total deaths')\n",
    "\n",
    "axs[2].plot(pt_covdf3['date'], pt_covdf3['accum_recovered'], \"go-\")\n",
    "axs[2].set_xlabel('date')\n",
    "axs[2].set_ylabel('recovered')\n",
    "axs[2].grid(True)\n",
    "axs[2].xaxis.set_major_formatter(date_form)\n",
    "axs[2].xaxis.set_minor_locator(mdates.DayLocator())\n",
    "axs[2].set_title('Total recovered')\n",
    "\n",
    "fig.tight_layout()\n",
    "plt.show()"
   ]
  },
  {
   "cell_type": "markdown",
   "metadata": {},
   "source": [
    "Add a column to a dataframe:\n",
    "df['protected'] = pd.Series(['no', 'no', 'no', 'yes'], index=df.index)"
   ]
  },
  {
   "cell_type": "markdown",
   "metadata": {},
   "source": []
  }
 ],
 "metadata": {
  "kernelspec": {
   "display_name": "Python 3",
   "language": "python",
   "name": "python3"
  },
  "language_info": {
   "codemirror_mode": {
    "name": "ipython",
    "version": 3
   },
   "file_extension": ".py",
   "mimetype": "text/x-python",
   "name": "python",
   "nbconvert_exporter": "python",
   "pygments_lexer": "ipython3",
   "version": "3.7.3"
  }
 },
 "nbformat": 4,
 "nbformat_minor": 4
}
